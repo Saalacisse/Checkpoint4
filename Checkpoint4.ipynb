{
 "cells": [
  {
   "cell_type": "markdown",
   "id": "eece358b",
   "metadata": {},
   "source": [
    "### Question 1\n",
    "\n",
    "Write a Python function to find the largest (max) of three numbers.\n",
    "\n",
    "For example, the max of these three numbers (20, 35, 19) is 35."
   ]
  },
  {
   "cell_type": "code",
   "execution_count": 12,
   "id": "0f5c2083",
   "metadata": {},
   "outputs": [
    {
     "name": "stdout",
     "output_type": "stream",
     "text": [
      "35\n"
     ]
    }
   ],
   "source": [
    "def Number(Num1, Num2, Num3):\n",
    "    max_Number = max(Num1, Num2, Num3)\n",
    "    return max_Number\n",
    "print(Number(20,35,19))"
   ]
  },
  {
   "cell_type": "markdown",
   "id": "f0d29887",
   "metadata": {},
   "source": [
    "### Question 2\n",
    "\n",
    "Write a function calculation() so it can accept two variables and calculate the addition and subtraction of them. It must return both addition and subtraction in a single return call.\n",
    "\n",
    "For example:\n",
    "\n",
    "calculation(40, 10) should produce 50, 30 "
   ]
  },
  {
   "cell_type": "code",
   "execution_count": 35,
   "id": "9f182a67",
   "metadata": {},
   "outputs": [
    {
     "name": "stdout",
     "output_type": "stream",
     "text": [
      "(50, 30)\n"
     ]
    }
   ],
   "source": [
    "def Numbers(Num1,Num2):\n",
    "    addition = (Num1+Num2)\n",
    "    substraction = (Num1-Num2)\n",
    "    return addition, substraction\n",
    "print (Numbers(40,10))"
   ]
  },
  {
   "cell_type": "markdown",
   "id": "47635334",
   "metadata": {},
   "source": [
    "### Question 3\n",
    "\n",
    "Write a function that sums the elements of a list of integers.\n",
    "Write a function that multiplies the elements of an integer list.\n",
    "Use the two functions to sum the elements whose position is an even number (0,2,4…) and multiply the rest.\n",
    "\n",
    "Hint: Consider extracting two lists from a first list. "
   ]
  },
  {
   "cell_type": "code",
   "execution_count": 66,
   "id": "0a6a29e7",
   "metadata": {},
   "outputs": [
    {
     "name": "stdout",
     "output_type": "stream",
     "text": [
      "57\n"
     ]
    }
   ],
   "source": [
    "def Sum (int_list):\n",
    "    addition = 0\n",
    "    for i in int_list:\n",
    "        addition+=i\n",
    "    return addition\n",
    "\n",
    "def Multiply (int_list):\n",
    "    produit = 1\n",
    "    for i in int_list:\n",
    "        produit*=i\n",
    "    return produit\n",
    "\n",
    "def Sum_Mult (int_list):\n",
    "    list_even = []\n",
    "    list_odd= []\n",
    "    for i in range(len(int_list)):\n",
    "        if i%2 == 0:\n",
    "            list_even.append(int_list[i])\n",
    "        else:\n",
    "            list_odd.append(int_list[i])\n",
    "    Total_pair = Sum(list_even)\n",
    "    Produit_impair = Multiply(list_odd)\n",
    "    return Total_pair+Produit_impair\n",
    "int_list=[1,2,3,4,5,6]\n",
    "result=Sum_Mult(int_list)\n",
    "print (result)"
   ]
  },
  {
   "cell_type": "markdown",
   "id": "da9f3774",
   "metadata": {},
   "source": [
    "### Question 4\n",
    "\n",
    "write a function that displays the first letter of the dictionary value in upper case by using the return statement."
   ]
  },
  {
   "cell_type": "code",
   "execution_count": 2,
   "id": "70a3a1c6",
   "metadata": {},
   "outputs": [
    {
     "ename": "SyntaxError",
     "evalue": "invalid syntax (1486993990.py, line 1)",
     "output_type": "error",
     "traceback": [
      "\u001b[1;36m  File \u001b[1;32m\"C:\\Users\\mareme.cisse\\AppData\\Local\\Temp\\ipykernel_18024\\1486993990.py\"\u001b[1;36m, line \u001b[1;32m1\u001b[0m\n\u001b[1;33m    def Upper_case (\"str\")\u001b[0m\n\u001b[1;37m                    ^\u001b[0m\n\u001b[1;31mSyntaxError\u001b[0m\u001b[1;31m:\u001b[0m invalid syntax\n"
     ]
    }
   ],
   "source": [
    "def Upper_case (\"str\")"
   ]
  },
  {
   "cell_type": "markdown",
   "id": "0c1ddaee",
   "metadata": {},
   "source": [
    "### Question 5\n",
    "\n",
    "write a function that returns the largest word in the dictionary. "
   ]
  },
  {
   "cell_type": "code",
   "execution_count": 29,
   "id": "7f4e0cb9",
   "metadata": {},
   "outputs": [
    {
     "name": "stdout",
     "output_type": "stream",
     "text": [
      "Pamplemousse\n"
     ]
    }
   ],
   "source": [
    "def Largest_word (dictionary):\n",
    "    Lword=\"\"\n",
    "    for word in dictionary:\n",
    "        if len(word)>len(Lword):\n",
    "            Lword=word\n",
    "    return Lword\n",
    "dictionary = {\"Maison\":\"batiment\", \"Pamplemousse\":\"fruit\", \"robe\": \"habit\", \"Homme\":\"personne\" }\n",
    "print(Largest_word(dictionary))"
   ]
  },
  {
   "cell_type": "markdown",
   "id": "19128bec",
   "metadata": {},
   "source": [
    "### Question 6\n",
    "\n",
    "Write a Python program that accepts a hyphen-separated sequence of words as input and prints the words in a hyphen-separated sequence after sorting them alphabetically.\n",
    "\n",
    "Sample items: green-red-yellow-black-white\n",
    "\n",
    "Expected result: black-green-red-white-yellow\n",
    "\n",
    "Hint: There's a split function to separate your input string into words and a sort function to sort. "
   ]
  },
  {
   "cell_type": "code",
   "execution_count": 53,
   "id": "7cfc3253",
   "metadata": {},
   "outputs": [
    {
     "name": "stdout",
     "output_type": "stream",
     "text": [
      "Donnez-moi une séquence de mots séparés par des traits d'union : green-red-yellow-black-white\n",
      "black-green-red-white-yellow\n"
     ]
    }
   ],
   "source": [
    "sequence = input(\"Donnez-moi une séquence de mots séparés par des traits d'union : \")\n",
    "Hyphen1=sequence.split(\"-\")\n",
    "Hyphen1.sort()\n",
    "Hyphen2=\"-\".join(Hyphen1)\n",
    "print(Hyphen2)"
   ]
  },
  {
   "cell_type": "code",
   "execution_count": null,
   "id": "211f3227",
   "metadata": {},
   "outputs": [],
   "source": []
  }
 ],
 "metadata": {
  "kernelspec": {
   "display_name": "Python 3 (ipykernel)",
   "language": "python",
   "name": "python3"
  },
  "language_info": {
   "codemirror_mode": {
    "name": "ipython",
    "version": 3
   },
   "file_extension": ".py",
   "mimetype": "text/x-python",
   "name": "python",
   "nbconvert_exporter": "python",
   "pygments_lexer": "ipython3",
   "version": "3.9.13"
  }
 },
 "nbformat": 4,
 "nbformat_minor": 5
}
